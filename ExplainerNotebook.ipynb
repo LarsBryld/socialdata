{
  "nbformat": 4,
  "nbformat_minor": 5,
  "metadata": {
    "kernelspec": {
      "display_name": "Python 3",
      "language": "python",
      "name": "python3"
    },
    "language_info": {
      "codemirror_mode": {
        "name": "ipython",
        "version": 3
      },
      "file_extension": ".py",
      "mimetype": "text/x-python",
      "name": "python",
      "nbconvert_exporter": "python",
      "pygments_lexer": "ipython3",
      "version": "3.9.1"
    },
    "colab": {
      "name": "ExplainerNotebook.ipynb",
      "provenance": [],
      "collapsed_sections": [
        "official-tourist",
        "opening-boundary",
        "nVXaI3_FQb9-",
        "packed-contamination"
      ]
    }
  },
  "cells": [
    {
      "cell_type": "markdown",
      "metadata": {
        "id": "accredited-packet"
      },
      "source": [
        "#### Project guidelines (comment to be removed)\n",
        "\n",
        "https://github.com/suneman/socialdataanalysis2020/wiki/Final-Project\n"
      ],
      "id": "accredited-packet"
    },
    {
      "cell_type": "markdown",
      "metadata": {
        "id": "dress-trial"
      },
      "source": [
        "# Motivation.\n",
        "merging Copenhagen traffic data with weather data to check if traffic volumes can be predicted over time and space\n",
        "\n",
        "\n",
        "### What is your dataset?\n",
        "* This dataset contains hourly data about some of the busiest roads in Copenhagen that is available from this oppen data page: \n",
        "https://www.opendata.dk/city-of-copenhagen/faste-trafiktaellinger#resource-faste_trafikt%C3%A6llinger_2008.xlsx\n",
        "\n",
        "\n",
        "* The data reported are the total number of vehicles observed on these roads on each hour for all calendar days on each of the relevant roads\n",
        "\n",
        "\n",
        "* Then for the weather we gathered data from.....\n",
        "\n",
        "\n",
        "### Why did you choose this/these particular dataset(s)?\n",
        "We thought it could be interesting to invesigate patterns in the data and try to forecast traffic volumes when we add weather data\n",
        "\n",
        "### What was your goal for the end user's experience?\n",
        "Building a tool that allows users to easily visualize the data in space and time and understand how thes traffic volumes/flows distribute across different timeframes, spaces/neighboroughs and weather conditions\n",
        "\n",
        "\n",
        "\n",
        "\n",
        "# Basic stats. Let's understand the dataset better\n",
        "\n",
        "\n",
        "### Write about your choices in data cleaning and preprocessing\n",
        "We have deleted all the empty and oterwise irrelavant columns of data\n",
        "Then we created new features, mostly time references that we will need to visualize the data by different time references: daily, weekly, yearly, etc.\n",
        "\n",
        "\n"
      ],
      "id": "dress-trial"
    },
    {
      "cell_type": "code",
      "metadata": {
        "colab": {
          "base_uri": "https://localhost:8080/"
        },
        "id": "pyJqGHnx6o2f",
        "outputId": "8ddd7d3d-c578-4452-8ecb-c3c96164cb36"
      },
      "source": [
        "!pip install utm"
      ],
      "id": "pyJqGHnx6o2f",
      "execution_count": 1,
      "outputs": [
        {
          "output_type": "stream",
          "text": [
            "Collecting utm\n",
            "  Downloading https://files.pythonhosted.org/packages/f7/7e/629ddbe63164f71bf2b03e151a69bfbf439692652432af4b2a78f21b0a18/utm-0.7.0.tar.gz\n",
            "Building wheels for collected packages: utm\n",
            "  Building wheel for utm (setup.py) ... \u001b[?25l\u001b[?25hdone\n",
            "  Created wheel for utm: filename=utm-0.7.0-cp37-none-any.whl size=6096 sha256=2dbb4b7812f307790547f581c7eaf5a64e2d455f84eff6bb90908d81b7145e06\n",
            "  Stored in directory: /root/.cache/pip/wheels/d3/a0/c4/93c7535fe705e70d2376505fd2683f91524a50a944a15212d9\n",
            "Successfully built utm\n",
            "Installing collected packages: utm\n",
            "Successfully installed utm-0.7.0\n"
          ],
          "name": "stdout"
        }
      ]
    },
    {
      "cell_type": "code",
      "metadata": {
        "id": "directed-cassette"
      },
      "source": [
        "#import geopandas as gp\n",
        "import numpy as np\n",
        "import pandas as pd\n",
        "import matplotlib.pyplot as plt\n",
        "import seaborn as sns\n",
        "import folium\n",
        "import utm"
      ],
      "id": "directed-cassette",
      "execution_count": 3,
      "outputs": []
    },
    {
      "cell_type": "markdown",
      "metadata": {
        "id": "micro-police"
      },
      "source": [
        "Downloading data and removing/adding features"
      ],
      "id": "micro-police"
    },
    {
      "cell_type": "code",
      "metadata": {
        "colab": {
          "base_uri": "https://localhost:8080/"
        },
        "id": "nz6EfJWt8ifR",
        "outputId": "fa3d03d7-f3d1-47e3-cf72-7a32b69b4d5f"
      },
      "source": [
        "df1 = pd.read_csv('https://raw.githubusercontent.com/LarsBryld/socialdata/main/cph_traffic_2005-2009_original.csv',\n",
        "                 parse_dates = ['Dato'],dayfirst=True,encoding='ISO-8859-1')\n",
        "\n",
        "df2 = pd.read_csv('https://raw.githubusercontent.com/LarsBryld/socialdata/main/cph_traffic_2010-2014_original.csv',\n",
        "                 parse_dates = ['Dato'],dayfirst=True,encoding='ISO-8859-1')\n",
        "\n",
        "\n",
        "print('len of first df is {}. Len of 2 df is {}.  '.format(len(df1), len(df2)))\n"
      ],
      "id": "nz6EfJWt8ifR",
      "execution_count": 4,
      "outputs": [
        {
          "output_type": "stream",
          "text": [
            "len of first df is 93005. Len of 2 df is 90392.  \n"
          ],
          "name": "stdout"
        }
      ]
    },
    {
      "cell_type": "code",
      "metadata": {
        "id": "V0bcbrzR9Wxs"
      },
      "source": [
        "df = pd.DataFrame(pd.concat([df1, df2]))\n"
      ],
      "id": "V0bcbrzR9Wxs",
      "execution_count": 5,
      "outputs": []
    },
    {
      "cell_type": "code",
      "metadata": {
        "id": "osvqiZd3JWue"
      },
      "source": [
        "for i in range(7,31):\n",
        "    df = df.rename(columns={df.columns[i]: df.columns[i].split('.')[1].split('-')[0]})\n",
        "    df[df.columns[i]] = df[df.columns[i]].str.replace(',', '').fillna(0).astype('float')\n",
        "\n"
      ],
      "id": "osvqiZd3JWue",
      "execution_count": 6,
      "outputs": []
    },
    {
      "cell_type": "code",
      "metadata": {
        "id": "xB0u27P1Jz6B"
      },
      "source": [
        "def uf(x):\n",
        "    return utm.to_latlon(x[0], x[1], 32, 'T')\n",
        "# then we apply this function to the UTM coordinates in the file\n",
        "#df['LatLon'] = df[['Easting','Northing']].apply(uf, axis=1)\n",
        "df[['Lat', 'Lon']] = pd.DataFrame(df[['(UTM32)','(UTM32).1']].apply(uf, axis=1).tolist(), index=df.index)"
      ],
      "id": "xB0u27P1Jz6B",
      "execution_count": 7,
      "outputs": []
    },
    {
      "cell_type": "code",
      "metadata": {
        "id": "_6NvAWQ9J6LF"
      },
      "source": [
        "# randomizing Latitude and longitude points\n",
        "mi, ma = 0, 0.02\n",
        "# creating a noise with the same dimension as the dataset (2,2) \n",
        "noise1 = np.random.uniform(mi, ma, [len(df),1])\n",
        "noise2 = np.random.uniform(mi, ma, [len(df),1]) "
      ],
      "id": "_6NvAWQ9J6LF",
      "execution_count": 9,
      "outputs": []
    },
    {
      "cell_type": "code",
      "metadata": {
        "id": "PM-D8lytKLm0"
      },
      "source": [
        "df[['Lat_rand']] = df[['Lat']] + noise1\n",
        "df[['Lon_rand']] = df[['Lon']] + noise2"
      ],
      "id": "PM-D8lytKLm0",
      "execution_count": 10,
      "outputs": []
    },
    {
      "cell_type": "code",
      "metadata": {
        "id": "ur0t8rxeKWm-"
      },
      "source": [
        "df = df.drop(columns = ['Unnamed: 0','Spor','(UTM32)','(UTM32).1'])\n"
      ],
      "id": "ur0t8rxeKWm-",
      "execution_count": 11,
      "outputs": []
    },
    {
      "cell_type": "code",
      "metadata": {
        "id": "BH6oF_dsKYeN"
      },
      "source": [
        "# converting hours data columns into rows\n",
        "df = df.melt(id_vars=[\"Vej-Id\",\"Vejnavn\",\"Dato\",\"Lat\",\"Lon\",\"Lat_rand\",\"Lon_rand\"],\n",
        "        value_vars=['00','01','02','03','04','05','06','07','08','09','10','11','12',\n",
        "                    '13', '14','15', '16','17', '18','19','20','21','22','23'],\n",
        "        var_name=\"Hour\", \n",
        "        value_name=\"Vehicles\")"
      ],
      "id": "BH6oF_dsKYeN",
      "execution_count": 12,
      "outputs": []
    },
    {
      "cell_type": "code",
      "metadata": {
        "colab": {
          "base_uri": "https://localhost:8080/"
        },
        "id": "qtwx3nr8KhcT",
        "outputId": "d6c3918c-b2a2-45b4-96bd-c63c7c4cd6d1"
      },
      "source": [
        "# Add Day of the Week, Day, ,Week, Month, Year,\n",
        "df[\"DayName\"] = df['Dato'].apply(lambda x: x.day_name())\n",
        "df[\"WeekDay\"] = df['Dato'].dt.weekday\n",
        "df[\"DayOfMonth\"] = df['Dato'].dt.day\n",
        "df[\"Week\"] = df['Dato'].dt.week\n",
        "df[\"Month\"] = df['Dato'].dt.month\n",
        "df[\"Year\"] = df['Dato'].dt.year\n",
        "df[\"WeekDayName\"] = df['Dato'].dt.day_name()"
      ],
      "id": "qtwx3nr8KhcT",
      "execution_count": 62,
      "outputs": [
        {
          "output_type": "stream",
          "text": [
            "/usr/local/lib/python3.7/dist-packages/ipykernel_launcher.py:5: FutureWarning:\n",
            "\n",
            "Series.dt.weekofyear and Series.dt.week have been deprecated.  Please use Series.dt.isocalendar().week instead.\n",
            "\n"
          ],
          "name": "stderr"
        }
      ]
    },
    {
      "cell_type": "code",
      "metadata": {
        "colab": {
          "base_uri": "https://localhost:8080/",
          "height": 191
        },
        "id": "RiC-crsH7XCd",
        "outputId": "e32fbbe0-209c-4e40-8fc5-9f0d47cd608e"
      },
      "source": [
        "\n"
      ],
      "id": "RiC-crsH7XCd",
      "execution_count": 64,
      "outputs": [
        {
          "output_type": "execute_result",
          "data": {
            "text/html": [
              "<div>\n",
              "<style scoped>\n",
              "    .dataframe tbody tr th:only-of-type {\n",
              "        vertical-align: middle;\n",
              "    }\n",
              "\n",
              "    .dataframe tbody tr th {\n",
              "        vertical-align: top;\n",
              "    }\n",
              "\n",
              "    .dataframe thead th {\n",
              "        text-align: right;\n",
              "    }\n",
              "</style>\n",
              "<table border=\"1\" class=\"dataframe\">\n",
              "  <thead>\n",
              "    <tr style=\"text-align: right;\">\n",
              "      <th></th>\n",
              "      <th>Vej-Id</th>\n",
              "      <th>Vejnavn</th>\n",
              "      <th>Dato</th>\n",
              "      <th>Lat</th>\n",
              "      <th>Lon</th>\n",
              "      <th>Lat_rand</th>\n",
              "      <th>Lon_rand</th>\n",
              "      <th>Hour</th>\n",
              "      <th>Vehicles</th>\n",
              "      <th>DayName</th>\n",
              "      <th>WeekDay</th>\n",
              "      <th>DayOfMonth</th>\n",
              "      <th>Week</th>\n",
              "      <th>Month</th>\n",
              "      <th>Year</th>\n",
              "      <th>WeekDayName</th>\n",
              "    </tr>\n",
              "  </thead>\n",
              "  <tbody>\n",
              "    <tr>\n",
              "      <th>0</th>\n",
              "      <td>-</td>\n",
              "      <td>Ellebjergvej</td>\n",
              "      <td>2005-01-04</td>\n",
              "      <td>55.650543</td>\n",
              "      <td>12.510778</td>\n",
              "      <td>55.655616</td>\n",
              "      <td>12.526762</td>\n",
              "      <td>00</td>\n",
              "      <td>83.0</td>\n",
              "      <td>Tuesday</td>\n",
              "      <td>1</td>\n",
              "      <td>4</td>\n",
              "      <td>1</td>\n",
              "      <td>1</td>\n",
              "      <td>2005</td>\n",
              "      <td>Tuesday</td>\n",
              "    </tr>\n",
              "    <tr>\n",
              "      <th>1</th>\n",
              "      <td>-</td>\n",
              "      <td>Ellebjergvej</td>\n",
              "      <td>2005-02-04</td>\n",
              "      <td>55.650543</td>\n",
              "      <td>12.510778</td>\n",
              "      <td>55.666532</td>\n",
              "      <td>12.516093</td>\n",
              "      <td>00</td>\n",
              "      <td>153.0</td>\n",
              "      <td>Friday</td>\n",
              "      <td>4</td>\n",
              "      <td>4</td>\n",
              "      <td>5</td>\n",
              "      <td>2</td>\n",
              "      <td>2005</td>\n",
              "      <td>Friday</td>\n",
              "    </tr>\n",
              "    <tr>\n",
              "      <th>2</th>\n",
              "      <td>-</td>\n",
              "      <td>Ellebjergvej</td>\n",
              "      <td>2005-03-04</td>\n",
              "      <td>55.650543</td>\n",
              "      <td>12.510778</td>\n",
              "      <td>55.654095</td>\n",
              "      <td>12.514339</td>\n",
              "      <td>00</td>\n",
              "      <td>182.0</td>\n",
              "      <td>Friday</td>\n",
              "      <td>4</td>\n",
              "      <td>4</td>\n",
              "      <td>9</td>\n",
              "      <td>3</td>\n",
              "      <td>2005</td>\n",
              "      <td>Friday</td>\n",
              "    </tr>\n",
              "    <tr>\n",
              "      <th>3</th>\n",
              "      <td>-</td>\n",
              "      <td>Ellebjergvej</td>\n",
              "      <td>2005-04-04</td>\n",
              "      <td>55.650543</td>\n",
              "      <td>12.510778</td>\n",
              "      <td>55.666870</td>\n",
              "      <td>12.512420</td>\n",
              "      <td>00</td>\n",
              "      <td>57.0</td>\n",
              "      <td>Monday</td>\n",
              "      <td>0</td>\n",
              "      <td>4</td>\n",
              "      <td>14</td>\n",
              "      <td>4</td>\n",
              "      <td>2005</td>\n",
              "      <td>Monday</td>\n",
              "    </tr>\n",
              "    <tr>\n",
              "      <th>4</th>\n",
              "      <td>-</td>\n",
              "      <td>Ellebjergvej</td>\n",
              "      <td>2005-05-04</td>\n",
              "      <td>55.650543</td>\n",
              "      <td>12.510778</td>\n",
              "      <td>55.667396</td>\n",
              "      <td>12.528635</td>\n",
              "      <td>00</td>\n",
              "      <td>73.0</td>\n",
              "      <td>Wednesday</td>\n",
              "      <td>2</td>\n",
              "      <td>4</td>\n",
              "      <td>18</td>\n",
              "      <td>5</td>\n",
              "      <td>2005</td>\n",
              "      <td>Wednesday</td>\n",
              "    </tr>\n",
              "  </tbody>\n",
              "</table>\n",
              "</div>"
            ],
            "text/plain": [
              "  Vej-Id       Vejnavn       Dato        Lat  ...  Week  Month  Year WeekDayName\n",
              "0      -  Ellebjergvej 2005-01-04  55.650543  ...     1      1  2005     Tuesday\n",
              "1      -  Ellebjergvej 2005-02-04  55.650543  ...     5      2  2005      Friday\n",
              "2      -  Ellebjergvej 2005-03-04  55.650543  ...     9      3  2005      Friday\n",
              "3      -  Ellebjergvej 2005-04-04  55.650543  ...    14      4  2005      Monday\n",
              "4      -  Ellebjergvej 2005-05-04  55.650543  ...    18      5  2005   Wednesday\n",
              "\n",
              "[5 rows x 16 columns]"
            ]
          },
          "metadata": {
            "tags": []
          },
          "execution_count": 64
        }
      ]
    },
    {
      "cell_type": "code",
      "metadata": {
        "id": "dSD6B0VNKrAG"
      },
      "source": [
        "# cleaning Vej-Id for more clear traffic direction\n",
        "df['Vej-Id'] = df['Vej-Id'].str.split(n=4).str[-1]\n"
      ],
      "id": "dSD6B0VNKrAG",
      "execution_count": 14,
      "outputs": []
    },
    {
      "cell_type": "markdown",
      "metadata": {
        "id": "official-tourist"
      },
      "source": [
        "### Write a short section that discusses the dataset stats, containing key points/plots from your exploratory data analysis.\n",
        "\n",
        "\n",
        "Below is the Total Count of vehicles per Road in descending order recorded in the whole period and a barplot that allows the visualization of the data.\n",
        "From both the list and the plot below you can see how there are significant differences in traffic volumes among the roads chosen in the dataset"
      ],
      "id": "official-tourist"
    },
    {
      "cell_type": "markdown",
      "metadata": {
        "id": "suspended-aviation"
      },
      "source": [
        "# remember to filter only for Vej-Id = \"T\" in all plots below (other tha the the ones for which you want to check for vehicles entering the City and the ones exiting)!!!!!!!"
      ],
      "id": "suspended-aviation"
    },
    {
      "cell_type": "code",
      "metadata": {
        "id": "technological-anxiety",
        "colab": {
          "base_uri": "https://localhost:8080/",
          "height": 680
        },
        "outputId": "ec129dc5-29ea-4f86-f571-48d184f34a3f"
      },
      "source": [
        "totcount = df.groupby('Vejnavn')['Vehicles'].sum().sort_values(ascending=False)\n",
        "pd.DataFrame(totcount.values, index = list(totcount.index), columns =['Total Vehicles']) "
      ],
      "id": "technological-anxiety",
      "execution_count": 17,
      "outputs": [
        {
          "output_type": "execute_result",
          "data": {
            "text/html": [
              "<div>\n",
              "<style scoped>\n",
              "    .dataframe tbody tr th:only-of-type {\n",
              "        vertical-align: middle;\n",
              "    }\n",
              "\n",
              "    .dataframe tbody tr th {\n",
              "        vertical-align: top;\n",
              "    }\n",
              "\n",
              "    .dataframe thead th {\n",
              "        text-align: right;\n",
              "    }\n",
              "</style>\n",
              "<table border=\"1\" class=\"dataframe\">\n",
              "  <thead>\n",
              "    <tr style=\"text-align: right;\">\n",
              "      <th></th>\n",
              "      <th>Total Vehicles</th>\n",
              "    </tr>\n",
              "  </thead>\n",
              "  <tbody>\n",
              "    <tr>\n",
              "      <th>Fredensbro</th>\n",
              "      <td>224539018.0</td>\n",
              "    </tr>\n",
              "    <tr>\n",
              "      <th>Ellebjergvej</th>\n",
              "      <td>208574520.0</td>\n",
              "    </tr>\n",
              "    <tr>\n",
              "      <th>Kalvebod Brygge</th>\n",
              "      <td>202649325.0</td>\n",
              "    </tr>\n",
              "    <tr>\n",
              "      <th>Torvegade</th>\n",
              "      <td>200340600.0</td>\n",
              "    </tr>\n",
              "    <tr>\n",
              "      <th>Tuborgvej</th>\n",
              "      <td>163046867.0</td>\n",
              "    </tr>\n",
              "    <tr>\n",
              "      <th>Ãboulevard</th>\n",
              "      <td>142917305.0</td>\n",
              "    </tr>\n",
              "    <tr>\n",
              "      <th>Vigerslev AllÃ©</th>\n",
              "      <td>123708668.0</td>\n",
              "    </tr>\n",
              "    <tr>\n",
              "      <th>Frederikssundsvej</th>\n",
              "      <td>121948873.0</td>\n",
              "    </tr>\n",
              "    <tr>\n",
              "      <th>Vejlands AlleÂ´</th>\n",
              "      <td>118548314.0</td>\n",
              "    </tr>\n",
              "    <tr>\n",
              "      <th>Hareskovvej</th>\n",
              "      <td>112475351.0</td>\n",
              "    </tr>\n",
              "    <tr>\n",
              "      <th>Jagtvej</th>\n",
              "      <td>92367132.0</td>\n",
              "    </tr>\n",
              "    <tr>\n",
              "      <th>Roskildevej</th>\n",
              "      <td>78916532.0</td>\n",
              "    </tr>\n",
              "    <tr>\n",
              "      <th>KalkbrÃ¦nderihavnsgade</th>\n",
              "      <td>78293294.0</td>\n",
              "    </tr>\n",
              "    <tr>\n",
              "      <th>Englandsvej</th>\n",
              "      <td>77235398.0</td>\n",
              "    </tr>\n",
              "    <tr>\n",
              "      <th>SÃ¸lvgade</th>\n",
              "      <td>72539739.0</td>\n",
              "    </tr>\n",
              "    <tr>\n",
              "      <th>Ãrestads Boulevard</th>\n",
              "      <td>44436031.0</td>\n",
              "    </tr>\n",
              "    <tr>\n",
              "      <th>Gadelandet</th>\n",
              "      <td>40379765.0</td>\n",
              "    </tr>\n",
              "    <tr>\n",
              "      <th>Islands Brygge</th>\n",
              "      <td>28652198.0</td>\n",
              "    </tr>\n",
              "    <tr>\n",
              "      <th>Wittenberggade</th>\n",
              "      <td>27023801.0</td>\n",
              "    </tr>\n",
              "    <tr>\n",
              "      <th>Mozartsvej</th>\n",
              "      <td>22625205.0</td>\n",
              "    </tr>\n",
              "    <tr>\n",
              "      <th>Molbechsvej</th>\n",
              "      <td>16905168.0</td>\n",
              "    </tr>\n",
              "    <tr>\n",
              "      <th>Skt. Kjelds Gade</th>\n",
              "      <td>6039147.0</td>\n",
              "    </tr>\n",
              "  </tbody>\n",
              "</table>\n",
              "</div>"
            ],
            "text/plain": [
              "                        Total Vehicles\n",
              "Fredensbro                 224539018.0\n",
              "Ellebjergvej               208574520.0\n",
              "Kalvebod Brygge            202649325.0\n",
              "Torvegade                  200340600.0\n",
              "Tuborgvej                  163046867.0\n",
              "Ã\n",
              "boulevard                142917305.0\n",
              "Vigerslev AllÃ©            123708668.0\n",
              "Frederikssundsvej          121948873.0\n",
              "Vejlands AlleÂ´            118548314.0\n",
              "Hareskovvej                112475351.0\n",
              "Jagtvej                     92367132.0\n",
              "Roskildevej                 78916532.0\n",
              "KalkbrÃ¦nderihavnsgade      78293294.0\n",
              "Englandsvej                 77235398.0\n",
              "SÃ¸lvgade                   72539739.0\n",
              "Ãrestads Boulevard         44436031.0\n",
              "Gadelandet                  40379765.0\n",
              "Islands Brygge              28652198.0\n",
              "Wittenberggade              27023801.0\n",
              "Mozartsvej                  22625205.0\n",
              "Molbechsvej                 16905168.0\n",
              "Skt. Kjelds Gade             6039147.0"
            ]
          },
          "metadata": {
            "tags": []
          },
          "execution_count": 17
        }
      ]
    },
    {
      "cell_type": "code",
      "metadata": {
        "colab": {
          "base_uri": "https://localhost:8080/",
          "height": 542
        },
        "id": "Z2oZfHmFLc6d",
        "outputId": "f15c4a9b-beb0-45cc-b19d-6732e37feb67"
      },
      "source": [
        "import plotly.express as px\n",
        "fig = px.bar(totcount,  x = totcount.index, y = 'Vehicles', hover_data=[totcount.index, 'Vehicles'])\n",
        "\n",
        "fig.update_layout(\n",
        "    title=\"Total Vehicles pr. Street Name \",\n",
        "    xaxis_title=\"Road Name\",\n",
        "    yaxis_title=\"Number of Vehicles\",\n",
        "    \n",
        "  \n",
        ")\n",
        "\n",
        "\n",
        "fig.show()"
      ],
      "id": "Z2oZfHmFLc6d",
      "execution_count": 23,
      "outputs": [
        {
          "output_type": "display_data",
          "data": {
            "text/html": [
              "<html>\n",
              "<head><meta charset=\"utf-8\" /></head>\n",
              "<body>\n",
              "    <div>\n",
              "            <script src=\"https://cdnjs.cloudflare.com/ajax/libs/mathjax/2.7.5/MathJax.js?config=TeX-AMS-MML_SVG\"></script><script type=\"text/javascript\">if (window.MathJax) {MathJax.Hub.Config({SVG: {font: \"STIX-Web\"}});}</script>\n",
              "                <script type=\"text/javascript\">window.PlotlyConfig = {MathJaxConfig: 'local'};</script>\n",
              "        <script src=\"https://cdn.plot.ly/plotly-latest.min.js\"></script>    \n",
              "            <div id=\"245e0416-667f-40e9-b638-cdd5f1119ae0\" class=\"plotly-graph-div\" style=\"height:525px; width:100%;\"></div>\n",
              "            <script type=\"text/javascript\">\n",
              "                \n",
              "                    window.PLOTLYENV=window.PLOTLYENV || {};\n",
              "                    \n",
              "                if (document.getElementById(\"245e0416-667f-40e9-b638-cdd5f1119ae0\")) {\n",
              "                    Plotly.newPlot(\n",
              "                        '245e0416-667f-40e9-b638-cdd5f1119ae0',\n",
              "                        [{\"alignmentgroup\": \"True\", \"customdata\": [[\"Fredensbro\", 224539018.0], [\"Ellebjergvej\", 208574520.0], [\"Kalvebod Brygge\", 202649325.0], [\"Torvegade\", 200340600.0], [\"Tuborgvej\", 163046867.0], [\"\\u00c3\\u0085boulevard\", 142917305.0], [\"Vigerslev All\\u00c3\\u00a9\", 123708668.0], [\"Frederikssundsvej\", 121948873.0], [\"Vejlands Alle\\u00c2\\u00b4\", 118548314.0], [\"Hareskovvej\", 112475351.0], [\"Jagtvej\", 92367132.0], [\"Roskildevej\", 78916532.0], [\"Kalkbr\\u00c3\\u00a6nderihavnsgade\", 78293294.0], [\"Englandsvej\", 77235398.0], [\"S\\u00c3\\u00b8lvgade\", 72539739.0], [\"\\u00c3\\u0098restads Boulevard\", 44436031.0], [\"Gadelandet\", 40379765.0], [\"Islands Brygge\", 28652198.0], [\"Wittenberggade\", 27023801.0], [\"Mozartsvej\", 22625205.0], [\"Molbechsvej\", 16905168.0], [\"Skt. Kjelds Gade\", 6039147.0]], \"hoverlabel\": {\"namelength\": 0}, \"hovertemplate\": \"x=%{x}<br>Vehicles=%{customdata[1]}<br>hover_data_0=%{customdata[0]}\", \"legendgroup\": \"\", \"marker\": {\"color\": \"#636efa\"}, \"name\": \"\", \"offsetgroup\": \"\", \"orientation\": \"v\", \"showlegend\": false, \"textposition\": \"auto\", \"type\": \"bar\", \"x\": [\"Fredensbro\", \"Ellebjergvej\", \"Kalvebod Brygge\", \"Torvegade\", \"Tuborgvej\", \"\\u00c3\\u0085boulevard\", \"Vigerslev All\\u00c3\\u00a9\", \"Frederikssundsvej\", \"Vejlands Alle\\u00c2\\u00b4\", \"Hareskovvej\", \"Jagtvej\", \"Roskildevej\", \"Kalkbr\\u00c3\\u00a6nderihavnsgade\", \"Englandsvej\", \"S\\u00c3\\u00b8lvgade\", \"\\u00c3\\u0098restads Boulevard\", \"Gadelandet\", \"Islands Brygge\", \"Wittenberggade\", \"Mozartsvej\", \"Molbechsvej\", \"Skt. Kjelds Gade\"], \"xaxis\": \"x\", \"y\": [224539018.0, 208574520.0, 202649325.0, 200340600.0, 163046867.0, 142917305.0, 123708668.0, 121948873.0, 118548314.0, 112475351.0, 92367132.0, 78916532.0, 78293294.0, 77235398.0, 72539739.0, 44436031.0, 40379765.0, 28652198.0, 27023801.0, 22625205.0, 16905168.0, 6039147.0], \"yaxis\": \"y\"}],\n",
              "                        {\"barmode\": \"relative\", \"legend\": {\"tracegroupgap\": 0}, \"margin\": {\"t\": 60}, \"template\": {\"data\": {\"bar\": [{\"error_x\": {\"color\": \"#2a3f5f\"}, \"error_y\": {\"color\": \"#2a3f5f\"}, \"marker\": {\"line\": {\"color\": \"#E5ECF6\", \"width\": 0.5}}, \"type\": \"bar\"}], \"barpolar\": [{\"marker\": {\"line\": {\"color\": \"#E5ECF6\", \"width\": 0.5}}, \"type\": \"barpolar\"}], \"carpet\": [{\"aaxis\": {\"endlinecolor\": \"#2a3f5f\", \"gridcolor\": \"white\", \"linecolor\": \"white\", \"minorgridcolor\": \"white\", \"startlinecolor\": \"#2a3f5f\"}, \"baxis\": {\"endlinecolor\": \"#2a3f5f\", \"gridcolor\": \"white\", \"linecolor\": \"white\", \"minorgridcolor\": \"white\", \"startlinecolor\": \"#2a3f5f\"}, \"type\": \"carpet\"}], \"choropleth\": [{\"colorbar\": {\"outlinewidth\": 0, \"ticks\": \"\"}, \"type\": \"choropleth\"}], \"contour\": [{\"colorbar\": {\"outlinewidth\": 0, \"ticks\": \"\"}, \"colorscale\": [[0.0, \"#0d0887\"], [0.1111111111111111, \"#46039f\"], [0.2222222222222222, \"#7201a8\"], [0.3333333333333333, \"#9c179e\"], [0.4444444444444444, \"#bd3786\"], [0.5555555555555556, \"#d8576b\"], [0.6666666666666666, \"#ed7953\"], [0.7777777777777778, \"#fb9f3a\"], [0.8888888888888888, \"#fdca26\"], [1.0, \"#f0f921\"]], \"type\": \"contour\"}], \"contourcarpet\": [{\"colorbar\": {\"outlinewidth\": 0, \"ticks\": \"\"}, \"type\": \"contourcarpet\"}], \"heatmap\": [{\"colorbar\": {\"outlinewidth\": 0, \"ticks\": \"\"}, \"colorscale\": [[0.0, \"#0d0887\"], [0.1111111111111111, \"#46039f\"], [0.2222222222222222, \"#7201a8\"], [0.3333333333333333, \"#9c179e\"], [0.4444444444444444, \"#bd3786\"], [0.5555555555555556, \"#d8576b\"], [0.6666666666666666, \"#ed7953\"], [0.7777777777777778, \"#fb9f3a\"], [0.8888888888888888, \"#fdca26\"], [1.0, \"#f0f921\"]], \"type\": \"heatmap\"}], \"heatmapgl\": [{\"colorbar\": {\"outlinewidth\": 0, \"ticks\": \"\"}, \"colorscale\": [[0.0, \"#0d0887\"], [0.1111111111111111, \"#46039f\"], [0.2222222222222222, \"#7201a8\"], [0.3333333333333333, \"#9c179e\"], [0.4444444444444444, \"#bd3786\"], [0.5555555555555556, \"#d8576b\"], [0.6666666666666666, \"#ed7953\"], [0.7777777777777778, \"#fb9f3a\"], [0.8888888888888888, \"#fdca26\"], [1.0, \"#f0f921\"]], \"type\": \"heatmapgl\"}], \"histogram\": [{\"marker\": {\"colorbar\": {\"outlinewidth\": 0, \"ticks\": \"\"}}, \"type\": \"histogram\"}], \"histogram2d\": [{\"colorbar\": {\"outlinewidth\": 0, \"ticks\": \"\"}, \"colorscale\": [[0.0, \"#0d0887\"], [0.1111111111111111, \"#46039f\"], [0.2222222222222222, \"#7201a8\"], [0.3333333333333333, \"#9c179e\"], [0.4444444444444444, \"#bd3786\"], [0.5555555555555556, \"#d8576b\"], [0.6666666666666666, \"#ed7953\"], [0.7777777777777778, \"#fb9f3a\"], [0.8888888888888888, \"#fdca26\"], [1.0, \"#f0f921\"]], \"type\": \"histogram2d\"}], \"histogram2dcontour\": [{\"colorbar\": {\"outlinewidth\": 0, \"ticks\": \"\"}, \"colorscale\": [[0.0, \"#0d0887\"], [0.1111111111111111, \"#46039f\"], [0.2222222222222222, \"#7201a8\"], [0.3333333333333333, \"#9c179e\"], [0.4444444444444444, \"#bd3786\"], [0.5555555555555556, \"#d8576b\"], [0.6666666666666666, \"#ed7953\"], [0.7777777777777778, \"#fb9f3a\"], [0.8888888888888888, \"#fdca26\"], [1.0, \"#f0f921\"]], \"type\": \"histogram2dcontour\"}], \"mesh3d\": [{\"colorbar\": {\"outlinewidth\": 0, \"ticks\": \"\"}, \"type\": \"mesh3d\"}], \"parcoords\": [{\"line\": {\"colorbar\": {\"outlinewidth\": 0, \"ticks\": \"\"}}, \"type\": \"parcoords\"}], \"pie\": [{\"automargin\": true, \"type\": \"pie\"}], \"scatter\": [{\"marker\": {\"colorbar\": {\"outlinewidth\": 0, \"ticks\": \"\"}}, \"type\": \"scatter\"}], \"scatter3d\": [{\"line\": {\"colorbar\": {\"outlinewidth\": 0, \"ticks\": \"\"}}, \"marker\": {\"colorbar\": {\"outlinewidth\": 0, \"ticks\": \"\"}}, \"type\": \"scatter3d\"}], \"scattercarpet\": [{\"marker\": {\"colorbar\": {\"outlinewidth\": 0, \"ticks\": \"\"}}, \"type\": \"scattercarpet\"}], \"scattergeo\": [{\"marker\": {\"colorbar\": {\"outlinewidth\": 0, \"ticks\": \"\"}}, \"type\": \"scattergeo\"}], \"scattergl\": [{\"marker\": {\"colorbar\": {\"outlinewidth\": 0, \"ticks\": \"\"}}, \"type\": \"scattergl\"}], \"scattermapbox\": [{\"marker\": {\"colorbar\": {\"outlinewidth\": 0, \"ticks\": \"\"}}, \"type\": \"scattermapbox\"}], \"scatterpolar\": [{\"marker\": {\"colorbar\": {\"outlinewidth\": 0, \"ticks\": \"\"}}, \"type\": \"scatterpolar\"}], \"scatterpolargl\": [{\"marker\": {\"colorbar\": {\"outlinewidth\": 0, \"ticks\": \"\"}}, \"type\": \"scatterpolargl\"}], \"scatterternary\": [{\"marker\": {\"colorbar\": {\"outlinewidth\": 0, \"ticks\": \"\"}}, \"type\": \"scatterternary\"}], \"surface\": [{\"colorbar\": {\"outlinewidth\": 0, \"ticks\": \"\"}, \"colorscale\": [[0.0, \"#0d0887\"], [0.1111111111111111, \"#46039f\"], [0.2222222222222222, \"#7201a8\"], [0.3333333333333333, \"#9c179e\"], [0.4444444444444444, \"#bd3786\"], [0.5555555555555556, \"#d8576b\"], [0.6666666666666666, \"#ed7953\"], [0.7777777777777778, \"#fb9f3a\"], [0.8888888888888888, \"#fdca26\"], [1.0, \"#f0f921\"]], \"type\": \"surface\"}], \"table\": [{\"cells\": {\"fill\": {\"color\": \"#EBF0F8\"}, \"line\": {\"color\": \"white\"}}, \"header\": {\"fill\": {\"color\": \"#C8D4E3\"}, \"line\": {\"color\": \"white\"}}, \"type\": \"table\"}]}, \"layout\": {\"annotationdefaults\": {\"arrowcolor\": \"#2a3f5f\", \"arrowhead\": 0, \"arrowwidth\": 1}, \"coloraxis\": {\"colorbar\": {\"outlinewidth\": 0, \"ticks\": \"\"}}, \"colorscale\": {\"diverging\": [[0, \"#8e0152\"], [0.1, \"#c51b7d\"], [0.2, \"#de77ae\"], [0.3, \"#f1b6da\"], [0.4, \"#fde0ef\"], [0.5, \"#f7f7f7\"], [0.6, \"#e6f5d0\"], [0.7, \"#b8e186\"], [0.8, \"#7fbc41\"], [0.9, \"#4d9221\"], [1, \"#276419\"]], \"sequential\": [[0.0, \"#0d0887\"], [0.1111111111111111, \"#46039f\"], [0.2222222222222222, \"#7201a8\"], [0.3333333333333333, \"#9c179e\"], [0.4444444444444444, \"#bd3786\"], [0.5555555555555556, \"#d8576b\"], [0.6666666666666666, \"#ed7953\"], [0.7777777777777778, \"#fb9f3a\"], [0.8888888888888888, \"#fdca26\"], [1.0, \"#f0f921\"]], \"sequentialminus\": [[0.0, \"#0d0887\"], [0.1111111111111111, \"#46039f\"], [0.2222222222222222, \"#7201a8\"], [0.3333333333333333, \"#9c179e\"], [0.4444444444444444, \"#bd3786\"], [0.5555555555555556, \"#d8576b\"], [0.6666666666666666, \"#ed7953\"], [0.7777777777777778, \"#fb9f3a\"], [0.8888888888888888, \"#fdca26\"], [1.0, \"#f0f921\"]]}, \"colorway\": [\"#636efa\", \"#EF553B\", \"#00cc96\", \"#ab63fa\", \"#FFA15A\", \"#19d3f3\", \"#FF6692\", \"#B6E880\", \"#FF97FF\", \"#FECB52\"], \"font\": {\"color\": \"#2a3f5f\"}, \"geo\": {\"bgcolor\": \"white\", \"lakecolor\": \"white\", \"landcolor\": \"#E5ECF6\", \"showlakes\": true, \"showland\": true, \"subunitcolor\": \"white\"}, \"hoverlabel\": {\"align\": \"left\"}, \"hovermode\": \"closest\", \"mapbox\": {\"style\": \"light\"}, \"paper_bgcolor\": \"white\", \"plot_bgcolor\": \"#E5ECF6\", \"polar\": {\"angularaxis\": {\"gridcolor\": \"white\", \"linecolor\": \"white\", \"ticks\": \"\"}, \"bgcolor\": \"#E5ECF6\", \"radialaxis\": {\"gridcolor\": \"white\", \"linecolor\": \"white\", \"ticks\": \"\"}}, \"scene\": {\"xaxis\": {\"backgroundcolor\": \"#E5ECF6\", \"gridcolor\": \"white\", \"gridwidth\": 2, \"linecolor\": \"white\", \"showbackground\": true, \"ticks\": \"\", \"zerolinecolor\": \"white\"}, \"yaxis\": {\"backgroundcolor\": \"#E5ECF6\", \"gridcolor\": \"white\", \"gridwidth\": 2, \"linecolor\": \"white\", \"showbackground\": true, \"ticks\": \"\", \"zerolinecolor\": \"white\"}, \"zaxis\": {\"backgroundcolor\": \"#E5ECF6\", \"gridcolor\": \"white\", \"gridwidth\": 2, \"linecolor\": \"white\", \"showbackground\": true, \"ticks\": \"\", \"zerolinecolor\": \"white\"}}, \"shapedefaults\": {\"line\": {\"color\": \"#2a3f5f\"}}, \"ternary\": {\"aaxis\": {\"gridcolor\": \"white\", \"linecolor\": \"white\", \"ticks\": \"\"}, \"baxis\": {\"gridcolor\": \"white\", \"linecolor\": \"white\", \"ticks\": \"\"}, \"bgcolor\": \"#E5ECF6\", \"caxis\": {\"gridcolor\": \"white\", \"linecolor\": \"white\", \"ticks\": \"\"}}, \"title\": {\"x\": 0.05}, \"xaxis\": {\"automargin\": true, \"gridcolor\": \"white\", \"linecolor\": \"white\", \"ticks\": \"\", \"title\": {\"standoff\": 15}, \"zerolinecolor\": \"white\", \"zerolinewidth\": 2}, \"yaxis\": {\"automargin\": true, \"gridcolor\": \"white\", \"linecolor\": \"white\", \"ticks\": \"\", \"title\": {\"standoff\": 15}, \"zerolinecolor\": \"white\", \"zerolinewidth\": 2}}}, \"title\": {\"text\": \"Total Vehicles pr. Street Name \"}, \"xaxis\": {\"anchor\": \"y\", \"domain\": [0.0, 1.0], \"title\": {\"text\": \"Road Name\"}}, \"yaxis\": {\"anchor\": \"x\", \"domain\": [0.0, 1.0], \"title\": {\"text\": \"Number of Vehicles\"}}},\n",
              "                        {\"responsive\": true}\n",
              "                    ).then(function(){\n",
              "                            \n",
              "var gd = document.getElementById('245e0416-667f-40e9-b638-cdd5f1119ae0');\n",
              "var x = new MutationObserver(function (mutations, observer) {{\n",
              "        var display = window.getComputedStyle(gd).display;\n",
              "        if (!display || display === 'none') {{\n",
              "            console.log([gd, 'removed!']);\n",
              "            Plotly.purge(gd);\n",
              "            observer.disconnect();\n",
              "        }}\n",
              "}});\n",
              "\n",
              "// Listen for the removal of the full notebook cells\n",
              "var notebookContainer = gd.closest('#notebook-container');\n",
              "if (notebookContainer) {{\n",
              "    x.observe(notebookContainer, {childList: true});\n",
              "}}\n",
              "\n",
              "// Listen for the clearing of the current output cell\n",
              "var outputEl = gd.closest('.output');\n",
              "if (outputEl) {{\n",
              "    x.observe(outputEl, {childList: true});\n",
              "}}\n",
              "\n",
              "                        })\n",
              "                };\n",
              "                \n",
              "            </script>\n",
              "        </div>\n",
              "</body>\n",
              "</html>"
            ]
          },
          "metadata": {
            "tags": []
          }
        }
      ]
    },
    {
      "cell_type": "markdown",
      "metadata": {
        "id": "broke-venezuela"
      },
      "source": [
        "# Let's look at how the data distribute across time\n",
        "## Weekly distribution of total vehicles\n",
        "\n",
        "The main pattern observable is the w-e drop in traffic"
      ],
      "id": "broke-venezuela"
    },
    {
      "cell_type": "code",
      "metadata": {
        "id": "auburn-exposure",
        "colab": {
          "base_uri": "https://localhost:8080/",
          "height": 287
        },
        "outputId": "dcc50f27-ac2b-4eab-b40b-83fc03e6aa47"
      },
      "source": [
        "w = df.groupby('WeekDay')['Vehicles'].sum().sort_values(ascending=False)"
      ],
      "id": "auburn-exposure",
      "execution_count": null,
      "outputs": [
        {
          "output_type": "display_data",
          "data": {
            "image/png": "[encoded data removed]",
            "text/plain": [
              "<Figure size 432x288 with 1 Axes>"
            ]
          },
          "metadata": {
            "tags": [],
            "needs_background": "light"
          }
        }
      ]
    },
    {
      "cell_type": "markdown",
      "metadata": {
        "id": "reliable-consolidation"
      },
      "source": [
        "## Weekly distribution per Road\n",
        "From the plots below a clear drop of traffic on all roads is clearly visible.\n",
        "2 main exceptions to this pattern are:\n",
        "* **Kalvebod Brygge** where the drop happens on Mondays and tuesdays. Althought this could be due to some quality issue about the data (we need to check if this is still the case when we include all years (now we are only working with 2008 data)\n",
        "* **Jagtvej** shows a much lower drop in the w-e compared to other roads\n"
      ],
      "id": "reliable-consolidation"
    },
    {
      "cell_type": "code",
      "metadata": {
        "id": "valued-missouri"
      },
      "source": [
        "w = df.groupby('WeekDayName')['Vehicles'].sum().sort_values(ascending=False)\n",
        "w = pd.DataFrame(w.values, index = list(w.index), columns =['Total Vehicles']) \n"
      ],
      "id": "valued-missouri",
      "execution_count": 65,
      "outputs": []
    },
    {
      "cell_type": "code",
      "metadata": {
        "id": "pxqRf5jQ8tyD"
      },
      "source": [
        "\n",
        "\n",
        "fig = px.bar(df, x=\"WeekDayName\", y=\"Vehicles\", title=\"Day of Week pr steet\", facet_col=\"Vejnavn\", facet_col_wrap=6,)\n",
        "fig.update_xaxes(categoryorder='array')\n",
        "fig.update_xaxes(categoryarray= ['Monday','Tuesday','Wednesday','Thursday', 'Friday', 'December'])\n",
        "#fig.update_yaxes(tick0=1, range=[0, 3500000000],dtick=500000000)\n",
        "fig.show()\n"
      ],
      "id": "pxqRf5jQ8tyD",
      "execution_count": 89,
      "outputs": []
    },
    {
      "cell_type": "code",
      "metadata": {
        "colab": {
          "base_uri": "https://localhost:8080/",
          "height": 191
        },
        "id": "jlueXjrJCJwu",
        "outputId": "06169d16-deef-42ad-a9af-0f77e53516f4"
      },
      "source": [
        ""
      ],
      "id": "jlueXjrJCJwu",
      "execution_count": 84,
      "outputs": [
        {
          "output_type": "execute_result",
          "data": {
            "text/html": [
              "<div>\n",
              "<style scoped>\n",
              "    .dataframe tbody tr th:only-of-type {\n",
              "        vertical-align: middle;\n",
              "    }\n",
              "\n",
              "    .dataframe tbody tr th {\n",
              "        vertical-align: top;\n",
              "    }\n",
              "\n",
              "    .dataframe thead th {\n",
              "        text-align: right;\n",
              "    }\n",
              "</style>\n",
              "<table border=\"1\" class=\"dataframe\">\n",
              "  <thead>\n",
              "    <tr style=\"text-align: right;\">\n",
              "      <th></th>\n",
              "      <th>Vej-Id</th>\n",
              "      <th>Vejnavn</th>\n",
              "      <th>Dato</th>\n",
              "      <th>Lat</th>\n",
              "      <th>Lon</th>\n",
              "      <th>Lat_rand</th>\n",
              "      <th>Lon_rand</th>\n",
              "      <th>Hour</th>\n",
              "      <th>Vehicles</th>\n",
              "      <th>DayName</th>\n",
              "      <th>WeekDay</th>\n",
              "      <th>DayOfMonth</th>\n",
              "      <th>Week</th>\n",
              "      <th>Month</th>\n",
              "      <th>Year</th>\n",
              "      <th>WeekDayName</th>\n",
              "    </tr>\n",
              "  </thead>\n",
              "  <tbody>\n",
              "    <tr>\n",
              "      <th>0</th>\n",
              "      <td>-</td>\n",
              "      <td>Ellebjergvej</td>\n",
              "      <td>2005-01-04</td>\n",
              "      <td>55.650543</td>\n",
              "      <td>12.510778</td>\n",
              "      <td>55.655616</td>\n",
              "      <td>12.526762</td>\n",
              "      <td>00</td>\n",
              "      <td>83.0</td>\n",
              "      <td>Tuesday</td>\n",
              "      <td>1</td>\n",
              "      <td>4</td>\n",
              "      <td>1</td>\n",
              "      <td>1</td>\n",
              "      <td>2005</td>\n",
              "      <td>Tuesday</td>\n",
              "    </tr>\n",
              "    <tr>\n",
              "      <th>1</th>\n",
              "      <td>-</td>\n",
              "      <td>Ellebjergvej</td>\n",
              "      <td>2005-02-04</td>\n",
              "      <td>55.650543</td>\n",
              "      <td>12.510778</td>\n",
              "      <td>55.666532</td>\n",
              "      <td>12.516093</td>\n",
              "      <td>00</td>\n",
              "      <td>153.0</td>\n",
              "      <td>Friday</td>\n",
              "      <td>4</td>\n",
              "      <td>4</td>\n",
              "      <td>5</td>\n",
              "      <td>2</td>\n",
              "      <td>2005</td>\n",
              "      <td>Friday</td>\n",
              "    </tr>\n",
              "    <tr>\n",
              "      <th>2</th>\n",
              "      <td>-</td>\n",
              "      <td>Ellebjergvej</td>\n",
              "      <td>2005-03-04</td>\n",
              "      <td>55.650543</td>\n",
              "      <td>12.510778</td>\n",
              "      <td>55.654095</td>\n",
              "      <td>12.514339</td>\n",
              "      <td>00</td>\n",
              "      <td>182.0</td>\n",
              "      <td>Friday</td>\n",
              "      <td>4</td>\n",
              "      <td>4</td>\n",
              "      <td>9</td>\n",
              "      <td>3</td>\n",
              "      <td>2005</td>\n",
              "      <td>Friday</td>\n",
              "    </tr>\n",
              "    <tr>\n",
              "      <th>3</th>\n",
              "      <td>-</td>\n",
              "      <td>Ellebjergvej</td>\n",
              "      <td>2005-04-04</td>\n",
              "      <td>55.650543</td>\n",
              "      <td>12.510778</td>\n",
              "      <td>55.666870</td>\n",
              "      <td>12.512420</td>\n",
              "      <td>00</td>\n",
              "      <td>57.0</td>\n",
              "      <td>Monday</td>\n",
              "      <td>0</td>\n",
              "      <td>4</td>\n",
              "      <td>14</td>\n",
              "      <td>4</td>\n",
              "      <td>2005</td>\n",
              "      <td>Monday</td>\n",
              "    </tr>\n",
              "    <tr>\n",
              "      <th>4</th>\n",
              "      <td>-</td>\n",
              "      <td>Ellebjergvej</td>\n",
              "      <td>2005-05-04</td>\n",
              "      <td>55.650543</td>\n",
              "      <td>12.510778</td>\n",
              "      <td>55.667396</td>\n",
              "      <td>12.528635</td>\n",
              "      <td>00</td>\n",
              "      <td>73.0</td>\n",
              "      <td>Wednesday</td>\n",
              "      <td>2</td>\n",
              "      <td>4</td>\n",
              "      <td>18</td>\n",
              "      <td>5</td>\n",
              "      <td>2005</td>\n",
              "      <td>Wednesday</td>\n",
              "    </tr>\n",
              "  </tbody>\n",
              "</table>\n",
              "</div>"
            ],
            "text/plain": [
              "  Vej-Id       Vejnavn       Dato        Lat  ...  Week  Month  Year WeekDayName\n",
              "0      -  Ellebjergvej 2005-01-04  55.650543  ...     1      1  2005     Tuesday\n",
              "1      -  Ellebjergvej 2005-02-04  55.650543  ...     5      2  2005      Friday\n",
              "2      -  Ellebjergvej 2005-03-04  55.650543  ...     9      3  2005      Friday\n",
              "3      -  Ellebjergvej 2005-04-04  55.650543  ...    14      4  2005      Monday\n",
              "4      -  Ellebjergvej 2005-05-04  55.650543  ...    18      5  2005   Wednesday\n",
              "\n",
              "[5 rows x 16 columns]"
            ]
          },
          "metadata": {
            "tags": []
          },
          "execution_count": 84
        }
      ]
    },
    {
      "cell_type": "code",
      "metadata": {
        "id": "ydKWk5bYByWk"
      },
      "source": [
        ""
      ],
      "id": "ydKWk5bYByWk",
      "execution_count": 88,
      "outputs": []
    },
    {
      "cell_type": "code",
      "metadata": {
        "id": "sInAPOflB-4H"
      },
      "source": [
        ""
      ],
      "id": "sInAPOflB-4H",
      "execution_count": 82,
      "outputs": []
    },
    {
      "cell_type": "code",
      "metadata": {
        "colab": {
          "base_uri": "https://localhost:8080/",
          "height": 542
        },
        "id": "MlUZon34zT2W",
        "outputId": "ee206f6c-ac6c-4df7-bf6e-d1afd18527a1"
      },
      "source": [
        "fig = px.bar(w,  x = w.index, y = 'Total Vehicles', hover_data=[w.index, 'Total Vehicles'],\n",
        "            )\n",
        "\n",
        "\n",
        "\n",
        "fig.update_layout(\n",
        "    title=\"Total Vehicles pr. weekday\",\n",
        "    xaxis_title=\"WeeK Day\",\n",
        "    yaxis_title=\"Number of Vehicles\",\n",
        "    )\n",
        "\n",
        "fig.update_xaxes(categoryorder='array', categoryarray= ['Monday', 'Tuesday', 'Wednesday', 'Thursday', 'Friday', 'Saturday', 'Sunday'])\n",
        "\n",
        "fig.show()"
      ],
      "id": "MlUZon34zT2W",
      "execution_count": 69,
      "outputs": [
        {
          "output_type": "display_data",
          "data": {
            "text/html": [
              "<html>\n",
              "<head><meta charset=\"utf-8\" /></head>\n",
              "<body>\n",
              "    <div>\n",
              "            <script src=\"https://cdnjs.cloudflare.com/ajax/libs/mathjax/2.7.5/MathJax.js?config=TeX-AMS-MML_SVG\"></script><script type=\"text/javascript\">if (window.MathJax) {MathJax.Hub.Config({SVG: {font: \"STIX-Web\"}});}</script>\n",
              "                <script type=\"text/javascript\">window.PlotlyConfig = {MathJaxConfig: 'local'};</script>\n",
              "        <script src=\"https://cdn.plot.ly/plotly-latest.min.js\"></script>    \n",
              "            <div id=\"078c730d-f3b6-420e-91b2-8d11c3307865\" class=\"plotly-graph-div\" style=\"height:525px; width:100%;\"></div>\n",
              "            <script type=\"text/javascript\">\n",
              "                \n",
              "                    window.PLOTLYENV=window.PLOTLYENV || {};\n",
              "                    \n",
              "                if (document.getElementById(\"078c730d-f3b6-420e-91b2-8d11c3307865\")) {\n",
              "                    Plotly.newPlot(\n",
              "                        '078c730d-f3b6-420e-91b2-8d11c3307865',\n",
              "                        [{\"alignmentgroup\": \"True\", \"customdata\": [[\"Friday\", 336216485.0], [\"Thursday\", 334404733.0], [\"Wednesday\", 334132977.0], [\"Tuesday\", 329175274.0], [\"Monday\", 323152823.0], [\"Saturday\", 280647453.0], [\"Sunday\", 266432506.0]], \"hoverlabel\": {\"namelength\": 0}, \"hovertemplate\": \"x=%{x}<br>Total Vehicles=%{customdata[1]}<br>hover_data_0=%{customdata[0]}\", \"legendgroup\": \"\", \"marker\": {\"color\": \"#636efa\"}, \"name\": \"\", \"offsetgroup\": \"\", \"orientation\": \"v\", \"showlegend\": false, \"textposition\": \"auto\", \"type\": \"bar\", \"x\": [\"Friday\", \"Thursday\", \"Wednesday\", \"Tuesday\", \"Monday\", \"Saturday\", \"Sunday\"], \"xaxis\": \"x\", \"y\": [336216485.0, 334404733.0, 334132977.0, 329175274.0, 323152823.0, 280647453.0, 266432506.0], \"yaxis\": \"y\"}],\n",
              "                        {\"barmode\": \"relative\", \"legend\": {\"tracegroupgap\": 0}, \"margin\": {\"t\": 60}, \"template\": {\"data\": {\"bar\": [{\"error_x\": {\"color\": \"#2a3f5f\"}, \"error_y\": {\"color\": \"#2a3f5f\"}, \"marker\": {\"line\": {\"color\": \"#E5ECF6\", \"width\": 0.5}}, \"type\": \"bar\"}], \"barpolar\": [{\"marker\": {\"line\": {\"color\": \"#E5ECF6\", \"width\": 0.5}}, \"type\": \"barpolar\"}], \"carpet\": [{\"aaxis\": {\"endlinecolor\": \"#2a3f5f\", \"gridcolor\": \"white\", \"linecolor\": \"white\", \"minorgridcolor\": \"white\", \"startlinecolor\": \"#2a3f5f\"}, \"baxis\": {\"endlinecolor\": \"#2a3f5f\", \"gridcolor\": \"white\", \"linecolor\": \"white\", \"minorgridcolor\": \"white\", \"startlinecolor\": \"#2a3f5f\"}, \"type\": \"carpet\"}], \"choropleth\": [{\"colorbar\": {\"outlinewidth\": 0, \"ticks\": \"\"}, \"type\": \"choropleth\"}], \"contour\": [{\"colorbar\": {\"outlinewidth\": 0, \"ticks\": \"\"}, \"colorscale\": [[0.0, \"#0d0887\"], [0.1111111111111111, \"#46039f\"], [0.2222222222222222, \"#7201a8\"], [0.3333333333333333, \"#9c179e\"], [0.4444444444444444, \"#bd3786\"], [0.5555555555555556, \"#d8576b\"], [0.6666666666666666, \"#ed7953\"], [0.7777777777777778, \"#fb9f3a\"], [0.8888888888888888, \"#fdca26\"], [1.0, \"#f0f921\"]], \"type\": \"contour\"}], \"contourcarpet\": [{\"colorbar\": {\"outlinewidth\": 0, \"ticks\": \"\"}, \"type\": \"contourcarpet\"}], \"heatmap\": [{\"colorbar\": {\"outlinewidth\": 0, \"ticks\": \"\"}, \"colorscale\": [[0.0, \"#0d0887\"], [0.1111111111111111, \"#46039f\"], [0.2222222222222222, \"#7201a8\"], [0.3333333333333333, \"#9c179e\"], [0.4444444444444444, \"#bd3786\"], [0.5555555555555556, \"#d8576b\"], [0.6666666666666666, \"#ed7953\"], [0.7777777777777778, \"#fb9f3a\"], [0.8888888888888888, \"#fdca26\"], [1.0, \"#f0f921\"]], \"type\": \"heatmap\"}], \"heatmapgl\": [{\"colorbar\": {\"outlinewidth\": 0, \"ticks\": \"\"}, \"colorscale\": [[0.0, \"#0d0887\"], [0.1111111111111111, \"#46039f\"], [0.2222222222222222, \"#7201a8\"], [0.3333333333333333, \"#9c179e\"], [0.4444444444444444, \"#bd3786\"], [0.5555555555555556, \"#d8576b\"], [0.6666666666666666, \"#ed7953\"], [0.7777777777777778, \"#fb9f3a\"], [0.8888888888888888, \"#fdca26\"], [1.0, \"#f0f921\"]], \"type\": \"heatmapgl\"}], \"histogram\": [{\"marker\": {\"colorbar\": {\"outlinewidth\": 0, \"ticks\": \"\"}}, \"type\": \"histogram\"}], \"histogram2d\": [{\"colorbar\": {\"outlinewidth\": 0, \"ticks\": \"\"}, \"colorscale\": [[0.0, \"#0d0887\"], [0.1111111111111111, \"#46039f\"], [0.2222222222222222, \"#7201a8\"], [0.3333333333333333, \"#9c179e\"], [0.4444444444444444, \"#bd3786\"], [0.5555555555555556, \"#d8576b\"], [0.6666666666666666, \"#ed7953\"], [0.7777777777777778, \"#fb9f3a\"], [0.8888888888888888, \"#fdca26\"], [1.0, \"#f0f921\"]], \"type\": \"histogram2d\"}], \"histogram2dcontour\": [{\"colorbar\": {\"outlinewidth\": 0, \"ticks\": \"\"}, \"colorscale\": [[0.0, \"#0d0887\"], [0.1111111111111111, \"#46039f\"], [0.2222222222222222, \"#7201a8\"], [0.3333333333333333, \"#9c179e\"], [0.4444444444444444, \"#bd3786\"], [0.5555555555555556, \"#d8576b\"], [0.6666666666666666, \"#ed7953\"], [0.7777777777777778, \"#fb9f3a\"], [0.8888888888888888, \"#fdca26\"], [1.0, \"#f0f921\"]], \"type\": \"histogram2dcontour\"}], \"mesh3d\": [{\"colorbar\": {\"outlinewidth\": 0, \"ticks\": \"\"}, \"type\": \"mesh3d\"}], \"parcoords\": [{\"line\": {\"colorbar\": {\"outlinewidth\": 0, \"ticks\": \"\"}}, \"type\": \"parcoords\"}], \"pie\": [{\"automargin\": true, \"type\": \"pie\"}], \"scatter\": [{\"marker\": {\"colorbar\": {\"outlinewidth\": 0, \"ticks\": \"\"}}, \"type\": \"scatter\"}], \"scatter3d\": [{\"line\": {\"colorbar\": {\"outlinewidth\": 0, \"ticks\": \"\"}}, \"marker\": {\"colorbar\": {\"outlinewidth\": 0, \"ticks\": \"\"}}, \"type\": \"scatter3d\"}], \"scattercarpet\": [{\"marker\": {\"colorbar\": {\"outlinewidth\": 0, \"ticks\": \"\"}}, \"type\": \"scattercarpet\"}], \"scattergeo\": [{\"marker\": {\"colorbar\": {\"outlinewidth\": 0, \"ticks\": \"\"}}, \"type\": \"scattergeo\"}], \"scattergl\": [{\"marker\": {\"colorbar\": {\"outlinewidth\": 0, \"ticks\": \"\"}}, \"type\": \"scattergl\"}], \"scattermapbox\": [{\"marker\": {\"colorbar\": {\"outlinewidth\": 0, \"ticks\": \"\"}}, \"type\": \"scattermapbox\"}], \"scatterpolar\": [{\"marker\": {\"colorbar\": {\"outlinewidth\": 0, \"ticks\": \"\"}}, \"type\": \"scatterpolar\"}], \"scatterpolargl\": [{\"marker\": {\"colorbar\": {\"outlinewidth\": 0, \"ticks\": \"\"}}, \"type\": \"scatterpolargl\"}], \"scatterternary\": [{\"marker\": {\"colorbar\": {\"outlinewidth\": 0, \"ticks\": \"\"}}, \"type\": \"scatterternary\"}], \"surface\": [{\"colorbar\": {\"outlinewidth\": 0, \"ticks\": \"\"}, \"colorscale\": [[0.0, \"#0d0887\"], [0.1111111111111111, \"#46039f\"], [0.2222222222222222, \"#7201a8\"], [0.3333333333333333, \"#9c179e\"], [0.4444444444444444, \"#bd3786\"], [0.5555555555555556, \"#d8576b\"], [0.6666666666666666, \"#ed7953\"], [0.7777777777777778, \"#fb9f3a\"], [0.8888888888888888, \"#fdca26\"], [1.0, \"#f0f921\"]], \"type\": \"surface\"}], \"table\": [{\"cells\": {\"fill\": {\"color\": \"#EBF0F8\"}, \"line\": {\"color\": \"white\"}}, \"header\": {\"fill\": {\"color\": \"#C8D4E3\"}, \"line\": {\"color\": \"white\"}}, \"type\": \"table\"}]}, \"layout\": {\"annotationdefaults\": {\"arrowcolor\": \"#2a3f5f\", \"arrowhead\": 0, \"arrowwidth\": 1}, \"coloraxis\": {\"colorbar\": {\"outlinewidth\": 0, \"ticks\": \"\"}}, \"colorscale\": {\"diverging\": [[0, \"#8e0152\"], [0.1, \"#c51b7d\"], [0.2, \"#de77ae\"], [0.3, \"#f1b6da\"], [0.4, \"#fde0ef\"], [0.5, \"#f7f7f7\"], [0.6, \"#e6f5d0\"], [0.7, \"#b8e186\"], [0.8, \"#7fbc41\"], [0.9, \"#4d9221\"], [1, \"#276419\"]], \"sequential\": [[0.0, \"#0d0887\"], [0.1111111111111111, \"#46039f\"], [0.2222222222222222, \"#7201a8\"], [0.3333333333333333, \"#9c179e\"], [0.4444444444444444, \"#bd3786\"], [0.5555555555555556, \"#d8576b\"], [0.6666666666666666, \"#ed7953\"], [0.7777777777777778, \"#fb9f3a\"], [0.8888888888888888, \"#fdca26\"], [1.0, \"#f0f921\"]], \"sequentialminus\": [[0.0, \"#0d0887\"], [0.1111111111111111, \"#46039f\"], [0.2222222222222222, \"#7201a8\"], [0.3333333333333333, \"#9c179e\"], [0.4444444444444444, \"#bd3786\"], [0.5555555555555556, \"#d8576b\"], [0.6666666666666666, \"#ed7953\"], [0.7777777777777778, \"#fb9f3a\"], [0.8888888888888888, \"#fdca26\"], [1.0, \"#f0f921\"]]}, \"colorway\": [\"#636efa\", \"#EF553B\", \"#00cc96\", \"#ab63fa\", \"#FFA15A\", \"#19d3f3\", \"#FF6692\", \"#B6E880\", \"#FF97FF\", \"#FECB52\"], \"font\": {\"color\": \"#2a3f5f\"}, \"geo\": {\"bgcolor\": \"white\", \"lakecolor\": \"white\", \"landcolor\": \"#E5ECF6\", \"showlakes\": true, \"showland\": true, \"subunitcolor\": \"white\"}, \"hoverlabel\": {\"align\": \"left\"}, \"hovermode\": \"closest\", \"mapbox\": {\"style\": \"light\"}, \"paper_bgcolor\": \"white\", \"plot_bgcolor\": \"#E5ECF6\", \"polar\": {\"angularaxis\": {\"gridcolor\": \"white\", \"linecolor\": \"white\", \"ticks\": \"\"}, \"bgcolor\": \"#E5ECF6\", \"radialaxis\": {\"gridcolor\": \"white\", \"linecolor\": \"white\", \"ticks\": \"\"}}, \"scene\": {\"xaxis\": {\"backgroundcolor\": \"#E5ECF6\", \"gridcolor\": \"white\", \"gridwidth\": 2, \"linecolor\": \"white\", \"showbackground\": true, \"ticks\": \"\", \"zerolinecolor\": \"white\"}, \"yaxis\": {\"backgroundcolor\": \"#E5ECF6\", \"gridcolor\": \"white\", \"gridwidth\": 2, \"linecolor\": \"white\", \"showbackground\": true, \"ticks\": \"\", \"zerolinecolor\": \"white\"}, \"zaxis\": {\"backgroundcolor\": \"#E5ECF6\", \"gridcolor\": \"white\", \"gridwidth\": 2, \"linecolor\": \"white\", \"showbackground\": true, \"ticks\": \"\", \"zerolinecolor\": \"white\"}}, \"shapedefaults\": {\"line\": {\"color\": \"#2a3f5f\"}}, \"ternary\": {\"aaxis\": {\"gridcolor\": \"white\", \"linecolor\": \"white\", \"ticks\": \"\"}, \"baxis\": {\"gridcolor\": \"white\", \"linecolor\": \"white\", \"ticks\": \"\"}, \"bgcolor\": \"#E5ECF6\", \"caxis\": {\"gridcolor\": \"white\", \"linecolor\": \"white\", \"ticks\": \"\"}}, \"title\": {\"x\": 0.05}, \"xaxis\": {\"automargin\": true, \"gridcolor\": \"white\", \"linecolor\": \"white\", \"ticks\": \"\", \"title\": {\"standoff\": 15}, \"zerolinecolor\": \"white\", \"zerolinewidth\": 2}, \"yaxis\": {\"automargin\": true, \"gridcolor\": \"white\", \"linecolor\": \"white\", \"ticks\": \"\", \"title\": {\"standoff\": 15}, \"zerolinecolor\": \"white\", \"zerolinewidth\": 2}}}, \"title\": {\"text\": \"Total Vehicles pr. Street Name \"}, \"xaxis\": {\"anchor\": \"y\", \"categoryarray\": [\"Monday\", \"Tuesday\", \"Wednesday\", \"Thursday\", \"Friday\", \"Saturday\", \"Sunday\"], \"categoryorder\": \"array\", \"domain\": [0.0, 1.0], \"title\": {\"text\": \"WeeK Day\"}}, \"yaxis\": {\"anchor\": \"x\", \"domain\": [0.0, 1.0], \"title\": {\"text\": \"Number of Vehicles\"}}},\n",
              "                        {\"responsive\": true}\n",
              "                    ).then(function(){\n",
              "                            \n",
              "var gd = document.getElementById('078c730d-f3b6-420e-91b2-8d11c3307865');\n",
              "var x = new MutationObserver(function (mutations, observer) {{\n",
              "        var display = window.getComputedStyle(gd).display;\n",
              "        if (!display || display === 'none') {{\n",
              "            console.log([gd, 'removed!']);\n",
              "            Plotly.purge(gd);\n",
              "            observer.disconnect();\n",
              "        }}\n",
              "}});\n",
              "\n",
              "// Listen for the removal of the full notebook cells\n",
              "var notebookContainer = gd.closest('#notebook-container');\n",
              "if (notebookContainer) {{\n",
              "    x.observe(notebookContainer, {childList: true});\n",
              "}}\n",
              "\n",
              "// Listen for the clearing of the current output cell\n",
              "var outputEl = gd.closest('.output');\n",
              "if (outputEl) {{\n",
              "    x.observe(outputEl, {childList: true});\n",
              "}}\n",
              "\n",
              "                        })\n",
              "                };\n",
              "                \n",
              "            </script>\n",
              "        </div>\n",
              "</body>\n",
              "</html>"
            ]
          },
          "metadata": {
            "tags": []
          }
        }
      ]
    },
    {
      "cell_type": "markdown",
      "metadata": {
        "id": "unexpected-brave"
      },
      "source": [
        "## Montly distribution per Road\n",
        "* The main feature that is clearly visible is the drop in taffic on nearly all roads on July, which is the month where most Copenhageners are on holidays away from the city\n",
        "* a few roads that except these rule show unclear patterns that could be due to data quality issues (check if this is true after wi enclose other years"
      ],
      "id": "unexpected-brave"
    },
    {
      "cell_type": "code",
      "metadata": {
        "id": "induced-database"
      },
      "source": [
        "m = df.groupby([\"Month\", \"Vejnavn\"]).sum()[\"Vehicles\"].unstack()"
      ],
      "id": "induced-database",
      "execution_count": null,
      "outputs": []
    },
    {
      "cell_type": "markdown",
      "metadata": {
        "id": "opening-boundary"
      },
      "source": [
        "## Day of the month distribution per Road\n",
        "one pattern that can be observed is that the 31st day of the month shows a little more than half the volumes of the average of the other days. This is probably due to the fact that there are ony 7 months that contain 31 days"
      ],
      "id": "opening-boundary"
    },
    {
      "cell_type": "code",
      "metadata": {
        "id": "mysterious-ranch"
      },
      "source": [
        "d = df.groupby([\"DayOfMonth\", \"Vejnavn\"]).sum()[\"Vehicles\"].unstack()\n"
      ],
      "id": "mysterious-ranch",
      "execution_count": null,
      "outputs": []
    },
    {
      "cell_type": "markdown",
      "metadata": {
        "id": "nVXaI3_FQb9-"
      },
      "source": [
        "## Hour of the day distribution per Road\n",
        "one pattern that can be observed is that ......"
      ],
      "id": "nVXaI3_FQb9-"
    },
    {
      "cell_type": "code",
      "metadata": {
        "id": "U_DvFqiOQbbz"
      },
      "source": [
        "h = df.groupby([\"Hour\", \"Vejnavn\"]).sum()[\"Vehicles\"].unstack()"
      ],
      "id": "U_DvFqiOQbbz",
      "execution_count": null,
      "outputs": []
    },
    {
      "cell_type": "code",
      "metadata": {
        "id": "di1cZf8_Ruhn"
      },
      "source": [
        "fig = px.bar(h, x=\"Hour\", y=\"Vehicles\", title=\"Day of Week <br>RFQ's from W&W ASSET MANAGEMENT\", facet_col=\"Vejnavn\", facet_col_wrap=6,)\n"
      ],
      "id": "di1cZf8_Ruhn",
      "execution_count": null,
      "outputs": []
    },
    {
      "cell_type": "code",
      "metadata": {
        "id": "TaxJEbkLQ73t"
      },
      "source": [
        "h.plot(kind='bar', subplots=True, figsize=(15,60), layout=(9,4))"
      ],
      "id": "TaxJEbkLQ73t",
      "execution_count": null,
      "outputs": []
    },
    {
      "cell_type": "markdown",
      "metadata": {
        "id": "packed-contamination"
      },
      "source": [
        "## Yearly distribution per Road\n",
        "* The main feature that is clearly visible is the drop in taffic on nearly all roads on July, which is the month where most Copenhageners are on holidays away from the city\n",
        "* a few roads that except these rule show unclear patterns that could be due to data quality issues (check if this is true after wi enclose other years"
      ],
      "id": "packed-contamination"
    },
    {
      "cell_type": "code",
      "metadata": {
        "id": "located-yellow"
      },
      "source": [
        "y = df.groupby([\"Year\", \"Vejnavn\"]).sum()[\"Vehicles\"].unstack()\n",
        "y"
      ],
      "id": "located-yellow",
      "execution_count": null,
      "outputs": []
    },
    {
      "cell_type": "code",
      "metadata": {
        "scrolled": false,
        "id": "subtle-jamaica"
      },
      "source": [
        "y.plot(kind='bar', subplots=True, figsize=(15,60), layout=(9,4))"
      ],
      "id": "subtle-jamaica",
      "execution_count": null,
      "outputs": []
    },
    {
      "cell_type": "markdown",
      "metadata": {
        "id": "confidential-employment"
      },
      "source": [
        "# Visualize data in space/time to identify some patterns"
      ],
      "id": "confidential-employment"
    },
    {
      "cell_type": "markdown",
      "metadata": {
        "id": "opposite-ottawa"
      },
      "source": [
        "# Radhusplads"
      ],
      "id": "opposite-ottawa"
    },
    {
      "cell_type": "code",
      "metadata": {
        "id": "diverse-hygiene"
      },
      "source": [
        "import folium\n",
        "\n",
        "map_hooray = folium.Map([55.6761, 12.5683], tiles = \"Stamen Toner\", zoom_start=12.5)\n",
        "\n",
        "folium.Marker([55.6761, 12.5683], \n",
        "              popup='RadHus Plads', \n",
        "              icon=folium.Icon(color='blue')\n",
        "             ).add_to(map_hooray)\n",
        "\n",
        "map_hooray"
      ],
      "id": "diverse-hygiene",
      "execution_count": null,
      "outputs": []
    },
    {
      "cell_type": "markdown",
      "metadata": {
        "id": "experienced-restoration"
      },
      "source": [
        "# Visualizing some traffic data"
      ],
      "id": "experienced-restoration"
    },
    {
      "cell_type": "code",
      "metadata": {
        "id": "aggregate-recovery"
      },
      "source": [
        "df1 = df[(df['DayOfMonth'].isin([1,2,3,4,5,2,3,4,5,6,7,8,9,10,\n",
        "                                11,12,13,14,15,16,17,18,19,20,\n",
        "                                21,22,23,24,25,26,27,28,29,30,31]))\n",
        "         & (df['Hour'].isin(['07','08']))\n",
        "         & (df['Month'].isin([6, 7]))\n",
        "         & (df['Year'] == 2008)\n",
        "        & (df['Vej-Id'] == 'T')]\n",
        "\n",
        "df1"
      ],
      "id": "aggregate-recovery",
      "execution_count": null,
      "outputs": []
    },
    {
      "cell_type": "code",
      "metadata": {
        "id": "therapeutic-european"
      },
      "source": [
        "map2 = folium.Map([55.6761, 12.5683], tiles = \"Stamen Toner\", zoom_start=12)\n",
        "\n",
        "folium.Marker([55.6761, 12.5683], \n",
        "              popup='City Hall', \n",
        "              icon=folium.Icon(color='blue')\n",
        "             ).add_to(map2)\n",
        "\n",
        "for i in range(len(df1)):\n",
        "    folium.Circle(location=[df1.iloc[i]['Lat'], df1.iloc[i]['Lon']],\n",
        "                  popup=df1.iloc[i]['Month'],\n",
        "                  radius=4, #data.iloc[i]['value']*10000,\n",
        "                  color='crimson',\n",
        "                  fill=True,\n",
        "                  fill_color='crimson'\n",
        "                 ).add_to(map2)\n",
        "\n",
        "map2"
      ],
      "id": "therapeutic-european",
      "execution_count": null,
      "outputs": []
    },
    {
      "cell_type": "markdown",
      "metadata": {
        "id": "short-crash"
      },
      "source": [
        "# Heatmap"
      ],
      "id": "short-crash"
    },
    {
      "cell_type": "code",
      "metadata": {
        "scrolled": false,
        "id": "satisfied-playing"
      },
      "source": [
        "from folium.plugins import HeatMap\n",
        "\n",
        "map_hooray = folium.Map([55.6761, 12.5683], tiles = \"Stamen Toner\", zoom_start=12)\n",
        "\n",
        "# Filter the DF for rows, then columns, then remove NaNs\n",
        "heat_df = df1[['Lat', 'Lon']]\n",
        "#heat_df = heat_df.dropna(axis=0, subset=['Y','X'])\n",
        "\n",
        "\n",
        "\n",
        "# List comprehension to make out list of lists\n",
        "heat_data = [[row['Lat'],row['Lon']] for index, row in heat_df.iterrows()]\n",
        "\n",
        "# Plot it on the map\n",
        "HeatMap(heat_data).add_to(map_hooray)\n",
        "\n",
        "# Display the map\n",
        "map_hooray"
      ],
      "id": "satisfied-playing",
      "execution_count": null,
      "outputs": []
    },
    {
      "cell_type": "markdown",
      "metadata": {
        "id": "unusual-transsexual"
      },
      "source": [
        "# HeatMapWithTime  (Weekdays) "
      ],
      "id": "unusual-transsexual"
    },
    {
      "cell_type": "code",
      "metadata": {
        "id": "qualified-wells"
      },
      "source": [
        "from folium import plugins\n",
        "\n",
        "map_hooray = folium.Map([55.6761, 12.5683], tiles = \"Stamen Toner\", zoom_start=12)\n",
        "\n",
        "# Filter the DF for rows, then columns, then remove NaNs\n",
        "heat_df = df1[['Lat', 'Lon','Lat_rand', 'Lon_rand']]\n",
        "#heat_df = heat_df.dropna(axis=0, subset=['Y','X'])\n",
        "\n",
        "# List comprehension to make out list of lists\n",
        "heat_data = [[row['Lat'],row['Lon']] for index, row in heat_df.iterrows()]\n",
        "\n",
        "# Create weight column, using date\n",
        "heat_df['Weight'] = df1['WeekDay']\n",
        "heat_df['Weight'] = heat_df['Weight'].astype(float)\n",
        "heat_df = heat_df.dropna(axis=0, subset=['Lat','Lon', 'Weight'])\n",
        "\n",
        "# List comprehension to make out list of lists\n",
        "heat_data = [[[row['Lat'],row['Lon']] for index, row in heat_df[heat_df['Weight'] == i].iterrows()] for i in range(0,7)]\n",
        "\n",
        "# Plot it on the map\n",
        "hm = plugins.HeatMapWithTime(heat_data,auto_play=True,max_opacity=0.8)\n",
        "hm.add_to(map_hooray)\n",
        "# Display the map\n",
        "map_hooray"
      ],
      "id": "qualified-wells",
      "execution_count": null,
      "outputs": []
    },
    {
      "cell_type": "markdown",
      "metadata": {
        "id": "innocent-secretariat"
      },
      "source": [
        "# HeatMapWithTime  (Weekdays) WITH RANDOMISED DATA"
      ],
      "id": "innocent-secretariat"
    },
    {
      "cell_type": "code",
      "metadata": {
        "id": "clear-hardware"
      },
      "source": [
        "#import numpy as np \n",
        "#mu, sigma = 0, 0.02\n",
        "# creating a noise with the same dimension as the dataset (2,2) \n",
        "#noise1 = np.random.uniform(mu, sigma, [len(heat_df),1])\n",
        "#noise2 = np.random.uniform(mu, sigma, [len(heat_df),1]) \n",
        "\n",
        "#heat_lat = heat_df[['Lat']] + noise1\n",
        "#heat_lon = heat_df[['Lon']] + noise2\n",
        "\n",
        "#heat_rn = pd.concat([heat_lat, heat_lon, heat_df['Weight']], axis=1)\n",
        "#heat_rn\n",
        "heat_df"
      ],
      "id": "clear-hardware",
      "execution_count": null,
      "outputs": []
    },
    {
      "cell_type": "code",
      "metadata": {
        "id": "concerned-material"
      },
      "source": [
        "from folium import plugins\n",
        "\n",
        "map_hooray = folium.Map([55.6761, 12.5683], tiles = \"Stamen Toner\", zoom_start=12)\n",
        "\n",
        "# randomize traffic data\n",
        "#mi, ma = 0, 0.02\n",
        "# creating a noise with the same dimension as the dataset (2,2) \n",
        "#noise1 = np.random.uniform(mi, ma, [len(heat_df),1])\n",
        "#noise2 = np.random.uniform(mi, ma, [len(heat_df),1]) \n",
        "\n",
        "#heat_lat = heat_df[['Lat']] + noise1\n",
        "#heat_lon = heat_df[['Lon']] + noise2\n",
        "\n",
        "#heat_rn = pd.concat([heat_lat, heat_lon, heat_df['Weight']], axis=1)\n",
        "heat_rn = pd.concat([heat_df['Lat_rand'], heat_df['Lon_rand'], heat_df['Weight']], axis=1)\n",
        "\n",
        "# List comprehension to make out list of lists\n",
        "heat_data_rn = [[[row['Lat_rand'],row['Lon_rand']] for index, row in heat_rn[heat_rn['Weight'] == i].iterrows()] for i in range(0,7)]\n",
        "\n",
        "# Plot it on the map\n",
        "hm = plugins.HeatMapWithTime(heat_data_rn,auto_play=True,max_opacity=0.8)\n",
        "hm.add_to(map_hooray)\n",
        "# Display the map\n",
        "map_hooray"
      ],
      "id": "concerned-material",
      "execution_count": null,
      "outputs": []
    },
    {
      "cell_type": "markdown",
      "metadata": {
        "id": "finished-quebec"
      },
      "source": [
        "# HeatMapWithTime  (DaysOfMonth) "
      ],
      "id": "finished-quebec"
    },
    {
      "cell_type": "code",
      "metadata": {
        "id": "restricted-attack"
      },
      "source": [
        "from folium import plugins\n",
        "\n",
        "map_hooray = folium.Map([55.6761, 12.5683], tiles = \"Stamen Toner\", zoom_start=12)\n",
        "\n",
        "# Filter the DF for rows, then columns, then remove NaNs\n",
        "heat_df = df1[['Lat', 'Lon']]\n",
        "#heat_df = heat_df.dropna(axis=0, subset=['Y','X'])\n",
        "\n",
        "# List comprehension to make out list of lists\n",
        "heat_data = [[row['Lat'],row['Lon']] for index, row in heat_df.iterrows()]\n",
        "\n",
        "# Create weight column, using date\n",
        "heat_df['Weight'] = df1['WeekDay']\n",
        "heat_df['Weight'] = heat_df['Weight'].astype(float)\n",
        "heat_df = heat_df.dropna(axis=0, subset=['Lat','Lon', 'Weight'])\n",
        "\n",
        "# List comprehension to make out list of lists\n",
        "heat_data = [[[row['Lat'],row['Lon']] for index, row in heat_df[heat_df['Weight'] == i].iterrows()] for i in range(0,7)]\n",
        "\n",
        "# Plot it on the map\n",
        "hm = plugins.HeatMapWithTime(heat_data,auto_play=True,max_opacity=0.8)\n",
        "hm.add_to(map_hooray)\n",
        "# Display the map\n",
        "map_hooray"
      ],
      "id": "restricted-attack",
      "execution_count": null,
      "outputs": []
    },
    {
      "cell_type": "code",
      "metadata": {
        "id": "third-tattoo"
      },
      "source": [
        ""
      ],
      "id": "third-tattoo",
      "execution_count": null,
      "outputs": []
    },
    {
      "cell_type": "markdown",
      "metadata": {
        "id": "entertaining-advisory"
      },
      "source": [
        "# another option to visualize something in the data is by using normalised data by road"
      ],
      "id": "entertaining-advisory"
    },
    {
      "cell_type": "code",
      "metadata": {
        "id": "handled-passion"
      },
      "source": [
        ""
      ],
      "id": "handled-passion",
      "execution_count": null,
      "outputs": []
    }
  ]
}